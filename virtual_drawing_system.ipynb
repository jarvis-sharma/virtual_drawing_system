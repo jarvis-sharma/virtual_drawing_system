{
 "cells": [
  {
   "cell_type": "code",
   "execution_count": 1,
   "metadata": {},
   "outputs": [],
   "source": [
    "import cv2\n",
    "import numpy as np"
   ]
  },
  {
   "cell_type": "code",
   "execution_count": 3,
   "metadata": {},
   "outputs": [],
   "source": [
    "cap=cv2.VideoCapture(0)\n",
    "point=[]\n",
    "while(True):\n",
    "    ret,frame=cap.read()\n",
    "    frameinv=cv2.flip(frame,1)\n",
    "    hsv=cv2.cvtColor(frameinv,cv2.COLOR_BGR2HSV)\n",
    "    ran=np.array([[158,85,72],[180,255,255]])     #range for red color\n",
    "    mask=cv2.inRange(hsv,ran[0],ran[1])\n",
    "    mask=cv2.morphologyEx(mask,cv2.MORPH_OPEN,np.ones((3,3),np.uint8),iterations=2)\n",
    "    mask=cv2.morphologyEx(mask,cv2.MORPH_CLOSE,np.ones((3,3),np.uint8),iterations=2)\n",
    "    _,con, hierarchy = cv2.findContours(mask, cv2.RETR_TREE, cv2.CHAIN_APPROX_SIMPLE)\n",
    "    con=np.array(con)\n",
    "    k=cv2.waitKey(10)\n",
    "    if len(con)>0:\n",
    "        x,y,w,h = cv2.boundingRect(con[0])\n",
    "        point.append([x+w/2,y+h/2])\n",
    "        for i in point:\n",
    "            cv2.circle(frameinv,(int(i[0]),int(i[1])),10,(0,0,255),-1)\n",
    "        cv2.imshow('img',frameinv)\n",
    "    else:\n",
    "        continue\n",
    "    if k & 0xFF==ord('q'):\n",
    "        break\n",
    "cap.release()\n",
    "cv2.destroyAllWindows()"
   ]
  },
  {
   "cell_type": "code",
   "execution_count": null,
   "metadata": {},
   "outputs": [],
   "source": []
  },
  {
   "cell_type": "code",
   "execution_count": null,
   "metadata": {},
   "outputs": [],
   "source": []
  }
 ],
 "metadata": {
  "kernelspec": {
   "display_name": "Python 3",
   "language": "python",
   "name": "python3"
  },
  "language_info": {
   "codemirror_mode": {
    "name": "ipython",
    "version": 3
   },
   "file_extension": ".py",
   "mimetype": "text/x-python",
   "name": "python",
   "nbconvert_exporter": "python",
   "pygments_lexer": "ipython3",
   "version": "3.7.4"
  }
 },
 "nbformat": 4,
 "nbformat_minor": 2
}
